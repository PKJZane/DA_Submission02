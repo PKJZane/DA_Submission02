{
 "cells": [
  {
   "cell_type": "markdown",
   "id": "c50ac8d9",
   "metadata": {},
   "source": [
    "## Problem Statement\n",
    "Big Pharma is a large pharmaceutical distribution company in Germany. They restock their warehouses monthly but have been running into issues with overstocking and under-stocking products. You were employed as a data scientist to help find a solution to this problem. The sales team has provided you with data to get started on implementing your solution.\n",
    "The data required for this is in the accompanying attachment data.zip.\n",
    "\n",
    "\n",
    "### Metadata\n",
    "1.\tDate: The date a product was purchased\n",
    "2.\tProduct ID: The ID for the product\n",
    "3.\tStock Demand: The quantity of product purchased (unit is in boxes)\n",
    "\n",
    "### Task\n",
    "The data provided includes product demand from October 2020 to October 2021. Your task is to forecast the quantity of products the company should purchase for their warehouses in the coming month. \n"
   ]
  },
  {
   "cell_type": "code",
   "execution_count": 1,
   "id": "9bebde99",
   "metadata": {},
   "outputs": [],
   "source": [
    "import pandas as pd\n",
    "import numpy as np\n",
    "\n",
    "import matplotlib.pyplot as plt\n",
    "import seaborn as sb\n",
    "\n",
    "import datetime as dt\n",
    "\n",
    "import featuretools as ft\n",
    "from sklearn.model_selection import train_test_split\n",
    "from xgboost import XGBClassifier\n",
    "from sklearn.metrics import (f1_score, accuracy_score, recall_score, precision_score,\n",
    "                            confusion_matrix,roc_auc_score,plot_confusion_matrix)\n"
   ]
  },
  {
   "cell_type": "code",
   "execution_count": 2,
   "id": "98f2a379",
   "metadata": {},
   "outputs": [
    {
     "data": {
      "text/html": [
       "<div>\n",
       "<style scoped>\n",
       "    .dataframe tbody tr th:only-of-type {\n",
       "        vertical-align: middle;\n",
       "    }\n",
       "\n",
       "    .dataframe tbody tr th {\n",
       "        vertical-align: top;\n",
       "    }\n",
       "\n",
       "    .dataframe thead th {\n",
       "        text-align: right;\n",
       "    }\n",
       "</style>\n",
       "<table border=\"1\" class=\"dataframe\">\n",
       "  <thead>\n",
       "    <tr style=\"text-align: right;\">\n",
       "      <th></th>\n",
       "      <th>Date</th>\n",
       "      <th>Product ID</th>\n",
       "      <th>Stock Demand</th>\n",
       "    </tr>\n",
       "  </thead>\n",
       "  <tbody>\n",
       "    <tr>\n",
       "      <th>0</th>\n",
       "      <td>2020-10-05</td>\n",
       "      <td>I6DO4</td>\n",
       "      <td>-1</td>\n",
       "    </tr>\n",
       "    <tr>\n",
       "      <th>1</th>\n",
       "      <td>2020-10-05</td>\n",
       "      <td>O40SR</td>\n",
       "      <td>16</td>\n",
       "    </tr>\n",
       "    <tr>\n",
       "      <th>2</th>\n",
       "      <td>2020-10-19</td>\n",
       "      <td>Y03MS</td>\n",
       "      <td>306</td>\n",
       "    </tr>\n",
       "    <tr>\n",
       "      <th>3</th>\n",
       "      <td>2020-10-08</td>\n",
       "      <td>B0OR2</td>\n",
       "      <td>307</td>\n",
       "    </tr>\n",
       "    <tr>\n",
       "      <th>4</th>\n",
       "      <td>2020-10-02</td>\n",
       "      <td>EIM03</td>\n",
       "      <td>6</td>\n",
       "    </tr>\n",
       "  </tbody>\n",
       "</table>\n",
       "</div>"
      ],
      "text/plain": [
       "        Date Product ID  Stock Demand\n",
       "0 2020-10-05      I6DO4            -1\n",
       "1 2020-10-05      O40SR            16\n",
       "2 2020-10-19      Y03MS           306\n",
       "3 2020-10-08      B0OR2           307\n",
       "4 2020-10-02      EIM03             6"
      ]
     },
     "execution_count": 2,
     "metadata": {},
     "output_type": "execute_result"
    }
   ],
   "source": [
    "df = pd.read_excel('pharmaceutical-sales-demand.xlsx')\n",
    "df.head()"
   ]
  },
  {
   "cell_type": "code",
   "execution_count": 3,
   "id": "1639fee1",
   "metadata": {},
   "outputs": [
    {
     "name": "stdout",
     "output_type": "stream",
     "text": [
      "<class 'pandas.core.frame.DataFrame'>\n",
      "RangeIndex: 1048575 entries, 0 to 1048574\n",
      "Data columns (total 3 columns):\n",
      " #   Column        Non-Null Count    Dtype         \n",
      "---  ------        --------------    -----         \n",
      " 0   Date          1048575 non-null  datetime64[ns]\n",
      " 1   Product ID    1048575 non-null  object        \n",
      " 2   Stock Demand  1048575 non-null  int64         \n",
      "dtypes: datetime64[ns](1), int64(1), object(1)\n",
      "memory usage: 24.0+ MB\n"
     ]
    }
   ],
   "source": [
    "df.info()"
   ]
  },
  {
   "cell_type": "markdown",
   "id": "a2a43669",
   "metadata": {},
   "source": [
    "1048575 total number of records. Features are in their correct data types"
   ]
  },
  {
   "cell_type": "code",
   "execution_count": 4,
   "id": "88c4d0cf",
   "metadata": {},
   "outputs": [
    {
     "data": {
      "text/plain": [
       "0"
      ]
     },
     "execution_count": 4,
     "metadata": {},
     "output_type": "execute_result"
    }
   ],
   "source": [
    "df.isna().sum().sum()"
   ]
  },
  {
   "cell_type": "markdown",
   "id": "19115b8f",
   "metadata": {},
   "source": [
    "There are no missing values"
   ]
  },
  {
   "cell_type": "code",
   "execution_count": 5,
   "id": "23874fef",
   "metadata": {},
   "outputs": [
    {
     "data": {
      "text/plain": [
       "8916"
      ]
     },
     "execution_count": 5,
     "metadata": {},
     "output_type": "execute_result"
    }
   ],
   "source": [
    "df.duplicated().sum()"
   ]
  },
  {
   "cell_type": "markdown",
   "id": "e0fd8259",
   "metadata": {},
   "source": [
    "There are 8916 duplicated records in the dataset. "
   ]
  },
  {
   "cell_type": "code",
   "execution_count": 6,
   "id": "c3977497",
   "metadata": {},
   "outputs": [
    {
     "data": {
      "text/plain": [
       "3145725"
      ]
     },
     "execution_count": 6,
     "metadata": {},
     "output_type": "execute_result"
    }
   ],
   "source": [
    "df.size"
   ]
  },
  {
   "cell_type": "code",
   "execution_count": 7,
   "id": "fac56a97",
   "metadata": {},
   "outputs": [
    {
     "data": {
      "text/plain": [
       "(1048575, 3)"
      ]
     },
     "execution_count": 7,
     "metadata": {},
     "output_type": "execute_result"
    }
   ],
   "source": [
    "df.shape"
   ]
  },
  {
   "cell_type": "code",
   "execution_count": 8,
   "id": "a3115630",
   "metadata": {},
   "outputs": [
    {
     "data": {
      "text/html": [
       "<div>\n",
       "<style scoped>\n",
       "    .dataframe tbody tr th:only-of-type {\n",
       "        vertical-align: middle;\n",
       "    }\n",
       "\n",
       "    .dataframe tbody tr th {\n",
       "        vertical-align: top;\n",
       "    }\n",
       "\n",
       "    .dataframe thead th {\n",
       "        text-align: right;\n",
       "    }\n",
       "</style>\n",
       "<table border=\"1\" class=\"dataframe\">\n",
       "  <thead>\n",
       "    <tr style=\"text-align: right;\">\n",
       "      <th></th>\n",
       "      <th>count</th>\n",
       "      <th>unique</th>\n",
       "      <th>top</th>\n",
       "      <th>freq</th>\n",
       "      <th>mean</th>\n",
       "      <th>min</th>\n",
       "      <th>25%</th>\n",
       "      <th>50%</th>\n",
       "      <th>75%</th>\n",
       "      <th>max</th>\n",
       "      <th>std</th>\n",
       "    </tr>\n",
       "  </thead>\n",
       "  <tbody>\n",
       "    <tr>\n",
       "      <th>Date</th>\n",
       "      <td>1048575</td>\n",
       "      <td>NaN</td>\n",
       "      <td>NaN</td>\n",
       "      <td>NaN</td>\n",
       "      <td>2021-02-21 07:34:04.746441728</td>\n",
       "      <td>2020-10-01 00:00:00</td>\n",
       "      <td>2020-12-10 00:00:00</td>\n",
       "      <td>2021-02-23 00:00:00</td>\n",
       "      <td>2021-05-04 00:00:00</td>\n",
       "      <td>2021-07-31 00:00:00</td>\n",
       "      <td>NaN</td>\n",
       "    </tr>\n",
       "    <tr>\n",
       "      <th>Product ID</th>\n",
       "      <td>1048575</td>\n",
       "      <td>7798</td>\n",
       "      <td>N0SI1</td>\n",
       "      <td>1482</td>\n",
       "      <td>NaN</td>\n",
       "      <td>NaN</td>\n",
       "      <td>NaN</td>\n",
       "      <td>NaN</td>\n",
       "      <td>NaN</td>\n",
       "      <td>NaN</td>\n",
       "      <td>NaN</td>\n",
       "    </tr>\n",
       "    <tr>\n",
       "      <th>Stock Demand</th>\n",
       "      <td>1048575.0</td>\n",
       "      <td>NaN</td>\n",
       "      <td>NaN</td>\n",
       "      <td>NaN</td>\n",
       "      <td>79.705856</td>\n",
       "      <td>-12226.0</td>\n",
       "      <td>3.0</td>\n",
       "      <td>9.0</td>\n",
       "      <td>31.0</td>\n",
       "      <td>149004.0</td>\n",
       "      <td>610.023009</td>\n",
       "    </tr>\n",
       "  </tbody>\n",
       "</table>\n",
       "</div>"
      ],
      "text/plain": [
       "                  count unique    top  freq                           mean  \\\n",
       "Date            1048575    NaN    NaN   NaN  2021-02-21 07:34:04.746441728   \n",
       "Product ID      1048575   7798  N0SI1  1482                            NaN   \n",
       "Stock Demand  1048575.0    NaN    NaN   NaN                      79.705856   \n",
       "\n",
       "                              min                  25%                  50%  \\\n",
       "Date          2020-10-01 00:00:00  2020-12-10 00:00:00  2021-02-23 00:00:00   \n",
       "Product ID                    NaN                  NaN                  NaN   \n",
       "Stock Demand             -12226.0                  3.0                  9.0   \n",
       "\n",
       "                              75%                  max         std  \n",
       "Date          2021-05-04 00:00:00  2021-07-31 00:00:00         NaN  \n",
       "Product ID                    NaN                  NaN         NaN  \n",
       "Stock Demand                 31.0             149004.0  610.023009  "
      ]
     },
     "execution_count": 8,
     "metadata": {},
     "output_type": "execute_result"
    }
   ],
   "source": [
    "df.describe(include='all',datetime_is_numeric=True).T"
   ]
  },
  {
   "cell_type": "markdown",
   "id": "4bde572c",
   "metadata": {},
   "source": [
    "- The earliest date is 2020-10-01 and the lastest date is 2021-07-31. \n",
    "- There are 7798 Products with _N0SI1_ as the frequently occuring product in the dataset\n",
    "- The minimum and maximum purchased stock quantity is -12226 and 149004. \n",
    "- Average Stock Demand is ~79.70, however 75% of the time, the stock in demand is 31 or lower.\n"
   ]
  },
  {
   "cell_type": "markdown",
   "id": "01c7532c",
   "metadata": {},
   "source": [
    "# Data Cleaning\n",
    "\n",
    "Analysing the dataset, there are a few data cleaning issues identified. We will attempt to clean the data at this stage"
   ]
  },
  {
   "cell_type": "markdown",
   "id": "8c9285a8",
   "metadata": {},
   "source": [
    "#### Identified Data Quality Issues \n",
    "1. Duplicated Entries\n"
   ]
  },
  {
   "cell_type": "markdown",
   "id": "74620d96",
   "metadata": {},
   "source": [
    "\n",
    "\n",
    "### Cleaning Data \n",
    "\n",
    "##### Issue 1"
   ]
  },
  {
   "cell_type": "markdown",
   "id": "171ff4e2",
   "metadata": {},
   "source": [
    "##### Define : \n",
    " The duplicated entries may ruin our train/test split during model building. This may affect the performance of our model.\n",
    " \n",
    "**Remove the duplicated records in the dataset**"
   ]
  },
  {
   "cell_type": "markdown",
   "id": "20de9406",
   "metadata": {},
   "source": [
    "##### Code : "
   ]
  },
  {
   "cell_type": "code",
   "execution_count": 9,
   "id": "a07b4566",
   "metadata": {},
   "outputs": [],
   "source": [
    "df.drop_duplicates(inplace=True)"
   ]
  },
  {
   "cell_type": "markdown",
   "id": "8ecb76d0",
   "metadata": {},
   "source": [
    "##### Test :"
   ]
  },
  {
   "cell_type": "code",
   "execution_count": 10,
   "id": "12a37cb2",
   "metadata": {},
   "outputs": [
    {
     "data": {
      "text/plain": [
       "0"
      ]
     },
     "execution_count": 10,
     "metadata": {},
     "output_type": "execute_result"
    }
   ],
   "source": [
    "df.duplicated().sum()"
   ]
  },
  {
   "cell_type": "markdown",
   "id": "15c753a5",
   "metadata": {},
   "source": [
    "There are no duplicates in the dataset"
   ]
  },
  {
   "cell_type": "markdown",
   "id": "276dc7ea",
   "metadata": {},
   "source": [
    "##### Define : \n",
    " A negative stock demand value could mean one of many things with a few listed below :\n",
    "1. the product was returned. \n",
    "2. the value was entered in error.\n",
    "\n",
    "Since I am unable to determine the actual reason, I will leave them as is\n",
    "\n"
   ]
  },
  {
   "cell_type": "code",
   "execution_count": 11,
   "id": "f254c3a1",
   "metadata": {},
   "outputs": [
    {
     "name": "stdout",
     "output_type": "stream",
     "text": [
      "<class 'pandas.core.frame.DataFrame'>\n",
      "Int64Index: 1039659 entries, 0 to 1048574\n",
      "Data columns (total 3 columns):\n",
      " #   Column        Non-Null Count    Dtype         \n",
      "---  ------        --------------    -----         \n",
      " 0   Date          1039659 non-null  datetime64[ns]\n",
      " 1   Product ID    1039659 non-null  object        \n",
      " 2   Stock Demand  1039659 non-null  int64         \n",
      "dtypes: datetime64[ns](1), int64(1), object(1)\n",
      "memory usage: 31.7+ MB\n"
     ]
    }
   ],
   "source": [
    "df.info()"
   ]
  },
  {
   "cell_type": "code",
   "execution_count": 12,
   "id": "5a29e026",
   "metadata": {},
   "outputs": [],
   "source": [
    "#Let's check the proportion of outlies in the dataset\n",
    "def data_whiskers(val):\n",
    "    x_val = pd.Series(sorted(val))\n",
    "    Q3 = x_val.quantile(0.75)\n",
    "    Q1 = x_val.quantile(0.25)\n",
    "    \n",
    "    #interquartile range\n",
    "    IQR = Q3 - Q1\n",
    "    lower_whisker = Q1 - (1.5*IQR)\n",
    "    upper_whisker = Q3 + (1.5*IQR)\n",
    "    \n",
    "    return lower_whisker, upper_whisker"
   ]
  },
  {
   "cell_type": "code",
   "execution_count": 13,
   "id": "9daaa96d",
   "metadata": {},
   "outputs": [
    {
     "name": "stdout",
     "output_type": "stream",
     "text": [
      "Lower Whisker : -39.0\n",
      "Upper Whisker : 73.0\n"
     ]
    }
   ],
   "source": [
    "LOW, HIGH = data_whiskers(df['Stock Demand'])\n",
    "print(f'Lower Whisker : {LOW}')\n",
    "print(f'Upper Whisker : {HIGH}')"
   ]
  },
  {
   "cell_type": "code",
   "execution_count": 14,
   "id": "c1b7cd0b",
   "metadata": {},
   "outputs": [
    {
     "name": "stdout",
     "output_type": "stream",
     "text": [
      "Proportion of outliers in dataset 14.65%\n"
     ]
    }
   ],
   "source": [
    "tot_no_of_outlier = ((df['Stock Demand'] > HIGH) | (df['Stock Demand'] < LOW)).sum()\n",
    "outlier_proportion = tot_no_of_outlier/len(df['Stock Demand'])\n",
    "print(f'Proportion of outliers in dataset {round(outlier_proportion * 100,2)}%')"
   ]
  },
  {
   "cell_type": "markdown",
   "id": "01a6cac1",
   "metadata": {},
   "source": [
    "There outliers in the dataset make up ~14.65% of the data. "
   ]
  },
  {
   "cell_type": "code",
   "execution_count": 15,
   "id": "05465a27",
   "metadata": {},
   "outputs": [
    {
     "data": {
      "text/plain": [
       "Text(0.5, 1.0, 'Distribution of Stock Demand')"
      ]
     },
     "execution_count": 15,
     "metadata": {},
     "output_type": "execute_result"
    },
    {
     "data": {
      "image/png": "[encoded data removed]",
      "text/plain": [
       "<Figure size 432x288 with 1 Axes>"
      ]
     },
     "metadata": {
      "needs_background": "light"
     },
     "output_type": "display_data"
    }
   ],
   "source": [
    "plt.hist(df['Stock Demand'], 10);\n",
    "plt.title('Distribution of Stock Demand')"
   ]
  },
  {
   "cell_type": "markdown",
   "id": "35769a46",
   "metadata": {},
   "source": [
    "The distribution is highly skewed to the right with almost all the observation concentrated on the left. "
   ]
  },
  {
   "cell_type": "code",
   "execution_count": 16,
   "id": "5a7d4bce",
   "metadata": {},
   "outputs": [
    {
     "data": {
      "image/png": "[encoded data removed]",
      "text/plain": [
       "<Figure size 432x288 with 1 Axes>"
      ]
     },
     "metadata": {
      "needs_background": "light"
     },
     "output_type": "display_data"
    }
   ],
   "source": [
    "plt.hist(np.arcsinh(df['Stock Demand']),50);\n",
    "plt.title('Arcsinh Transformation of the data');\n"
   ]
  },
  {
   "cell_type": "code",
   "execution_count": 17,
   "id": "8916024a",
   "metadata": {},
   "outputs": [
    {
     "data": {
      "text/plain": [
       "N0SI1    1368\n",
       "ET0N1    1171\n",
       "V0EL1    1170\n",
       "1PO0L    1157\n",
       "AL10C    1156\n",
       "         ... \n",
       "93NT8       1\n",
       "A4N4T       1\n",
       "NT433       1\n",
       "T32N3       1\n",
       "0KS1A       1\n",
       "Name: Product ID, Length: 7798, dtype: int64"
      ]
     },
     "execution_count": 17,
     "metadata": {},
     "output_type": "execute_result"
    }
   ],
   "source": [
    "df['Product ID'].value_counts()"
   ]
  },
  {
   "cell_type": "code",
   "execution_count": 18,
   "id": "eed41f10",
   "metadata": {},
   "outputs": [
    {
     "data": {
      "text/plain": [
       "Product ID\n",
       "1970-04-01 00:00:00      1\n",
       "2022-03-23 00:00:00     23\n",
       "2022-03-30 00:00:00    111\n",
       "0010R                   13\n",
       "001NT                   14\n",
       "                      ... \n",
       "ZR0D5                  109\n",
       "ZR20A                  133\n",
       "ZRD36                  188\n",
       "ZV0I1                  191\n",
       "ZVI02                  152\n",
       "Name: Date, Length: 7798, dtype: int64"
      ]
     },
     "execution_count": 18,
     "metadata": {},
     "output_type": "execute_result"
    }
   ],
   "source": [
    "#Group data by product type. \n",
    "\n",
    "df.groupby('Product ID')['Date'].count()"
   ]
  },
  {
   "cell_type": "markdown",
   "id": "f24f4882",
   "metadata": {},
   "source": [
    "There are some product types represented as date time format. This need to be corrected. "
   ]
  },
  {
   "cell_type": "code",
   "execution_count": 19,
   "id": "a406cd4f",
   "metadata": {},
   "outputs": [],
   "source": [
    "# Applying a function to convert data time product values to null\n",
    "df['Product ID'] = df[\"Product ID\"].apply(lambda x: np.nan if isinstance(x,dt.datetime) else x)"
   ]
  },
  {
   "cell_type": "code",
   "execution_count": 20,
   "id": "ba162aa1",
   "metadata": {},
   "outputs": [
    {
     "data": {
      "text/plain": [
       "135"
      ]
     },
     "execution_count": 20,
     "metadata": {},
     "output_type": "execute_result"
    }
   ],
   "source": [
    "# Checking for missing values in Product_ID column\n",
    "df['Product ID'].isnull().sum()"
   ]
  },
  {
   "cell_type": "markdown",
   "id": "cadc09dd",
   "metadata": {},
   "source": [
    "There are 135 missing values in the product column. I can fill the values with the mode or drop the entire rocords from the dataset. "
   ]
  },
  {
   "cell_type": "code",
   "execution_count": 21,
   "id": "d7df041f",
   "metadata": {},
   "outputs": [],
   "source": [
    "#removing missing values from the dataset\n",
    "df.dropna(inplace=True)"
   ]
  },
  {
   "cell_type": "code",
   "execution_count": 22,
   "id": "7feb92b4",
   "metadata": {},
   "outputs": [
    {
     "name": "stdout",
     "output_type": "stream",
     "text": [
      "Total no of missing values in dataset: 0\n",
      "------------------------ \n",
      "\n",
      "<class 'pandas.core.frame.DataFrame'>\n",
      "Int64Index: 1039524 entries, 0 to 1048574\n",
      "Data columns (total 3 columns):\n",
      " #   Column        Non-Null Count    Dtype         \n",
      "---  ------        --------------    -----         \n",
      " 0   Date          1039524 non-null  datetime64[ns]\n",
      " 1   Product ID    1039524 non-null  object        \n",
      " 2   Stock Demand  1039524 non-null  int64         \n",
      "dtypes: datetime64[ns](1), int64(1), object(1)\n",
      "memory usage: 31.7+ MB\n",
      "None\n"
     ]
    }
   ],
   "source": [
    "# Confirm if there are no more missing value\n",
    "print(f'Total no of missing values in dataset: {df.isnull().sum().sum()}')\n",
    "print('------------------------ \\n')\n",
    "\n",
    "print(df.info())\n"
   ]
  },
  {
   "cell_type": "markdown",
   "id": "99e22d95",
   "metadata": {},
   "source": [
    "# Defining the Prediction Problem \n",
    "Due to the huge outliers and the percentage of outlier proportion, we will frame the problem as a classification problem and set a threshold. Products whose total stock demand exceed the threshold will be labeled for restocking and vice versa. "
   ]
  },
  {
   "cell_type": "markdown",
   "id": "08827be8",
   "metadata": {},
   "source": [
    "##### Data Preprocessing"
   ]
  },
  {
   "cell_type": "code",
   "execution_count": 23,
   "id": "f69f36bf",
   "metadata": {},
   "outputs": [],
   "source": [
    "# Function to make total product sales in a month\n",
    "# the default threshold for labeling the data is 1000.\n",
    "def total_monthly_sales(start_date, end_date,threshold=1000):\n",
    "    \n",
    "    #Unique products that existed before start date\n",
    "    products = df[df['Date'] < start_date]['Product ID'].unique()\n",
    "    \n",
    "    #create a dataframe for such products\n",
    "    prod_temp = pd.DataFrame({'Product ID':products})\n",
    "    \n",
    "    #get total sales for the period for all products in product pool(products before start date)\n",
    "    total_sales = df[df['Product ID'].isin(products) & \n",
    "                (df['Date']> start_date) & \n",
    "                (df['Date'] < end_date)].groupby('Product ID')['Stock Demand'].sum().reset_index()\n",
    "    \n",
    "    #add the total sales data to the product data\n",
    "    total_sales = total_sales.merge(prod_temp, on ='Product ID', how='right')\n",
    "    \n",
    "    #Products that were no purchased at least once in the month under review is filled with 0\n",
    "    total_sales['total_sale'] = total_sales['Stock Demand'].fillna(0)\n",
    "    \n",
    "    #set cutoff time to beginning of the period\n",
    "    total_sales['cutoff_time'] = pd.to_datetime(start_date)\n",
    "    \n",
    "    #create dataframe\n",
    "    total_sales = total_sales[['Product ID', 'cutoff_time', 'total_sale']]\n",
    "    \n",
    "    #Use threshold to set labels for the dataset\n",
    "    total_sales['label'] = (total_sales['total_sale'] > threshold).astype(int)\n",
    "    \n",
    "    return total_sales\n",
    "    "
   ]
  },
  {
   "cell_type": "code",
   "execution_count": 24,
   "id": "6f44ed93",
   "metadata": {},
   "outputs": [],
   "source": [
    "#2020-10-01\n",
    "oct2020_sales = total_monthly_sales(dt.datetime(2020,10,1), dt.datetime(2020,11,1))"
   ]
  },
  {
   "cell_type": "code",
   "execution_count": 25,
   "id": "789f4d09",
   "metadata": {},
   "outputs": [],
   "source": [
    "#total sales for the month of october\n",
    "nov2020_sales = total_monthly_sales(dt.datetime(2020,11,1), dt.datetime(2020,12,1))"
   ]
  },
  {
   "cell_type": "code",
   "execution_count": 26,
   "id": "ce391c4f",
   "metadata": {},
   "outputs": [
    {
     "data": {
      "text/html": [
       "<div>\n",
       "<style scoped>\n",
       "    .dataframe tbody tr th:only-of-type {\n",
       "        vertical-align: middle;\n",
       "    }\n",
       "\n",
       "    .dataframe tbody tr th {\n",
       "        vertical-align: top;\n",
       "    }\n",
       "\n",
       "    .dataframe thead th {\n",
       "        text-align: right;\n",
       "    }\n",
       "</style>\n",
       "<table border=\"1\" class=\"dataframe\">\n",
       "  <thead>\n",
       "    <tr style=\"text-align: right;\">\n",
       "      <th></th>\n",
       "      <th>Product ID</th>\n",
       "      <th>cutoff_time</th>\n",
       "      <th>total_sale</th>\n",
       "      <th>label</th>\n",
       "    </tr>\n",
       "  </thead>\n",
       "  <tbody>\n",
       "    <tr>\n",
       "      <th>0</th>\n",
       "      <td>I6DO4</td>\n",
       "      <td>2020-11-01</td>\n",
       "      <td>0.0</td>\n",
       "      <td>0</td>\n",
       "    </tr>\n",
       "    <tr>\n",
       "      <th>1</th>\n",
       "      <td>O40SR</td>\n",
       "      <td>2020-11-01</td>\n",
       "      <td>4899.0</td>\n",
       "      <td>1</td>\n",
       "    </tr>\n",
       "    <tr>\n",
       "      <th>2</th>\n",
       "      <td>Y03MS</td>\n",
       "      <td>2020-11-01</td>\n",
       "      <td>5544.0</td>\n",
       "      <td>1</td>\n",
       "    </tr>\n",
       "    <tr>\n",
       "      <th>3</th>\n",
       "      <td>B0OR2</td>\n",
       "      <td>2020-11-01</td>\n",
       "      <td>3828.0</td>\n",
       "      <td>1</td>\n",
       "    </tr>\n",
       "    <tr>\n",
       "      <th>4</th>\n",
       "      <td>EIM03</td>\n",
       "      <td>2020-11-01</td>\n",
       "      <td>426.0</td>\n",
       "      <td>0</td>\n",
       "    </tr>\n",
       "  </tbody>\n",
       "</table>\n",
       "</div>"
      ],
      "text/plain": [
       "  Product ID cutoff_time  total_sale  label\n",
       "0      I6DO4  2020-11-01         0.0      0\n",
       "1      O40SR  2020-11-01      4899.0      1\n",
       "2      Y03MS  2020-11-01      5544.0      1\n",
       "3      B0OR2  2020-11-01      3828.0      1\n",
       "4      EIM03  2020-11-01       426.0      0"
      ]
     },
     "execution_count": 26,
     "metadata": {},
     "output_type": "execute_result"
    }
   ],
   "source": [
    "nov2020_sales.head()"
   ]
  },
  {
   "cell_type": "code",
   "execution_count": 27,
   "id": "bd756dcb",
   "metadata": {},
   "outputs": [
    {
     "data": {
      "text/plain": [
       "Text(0.5, 1.0, 'Label Distribution for November')"
      ]
     },
     "execution_count": 27,
     "metadata": {},
     "output_type": "execute_result"
    },
    {
     "data": {
      "image/png": "[encoded data removed]",
      "text/plain": [
       "<Figure size 432x288 with 1 Axes>"
      ]
     },
     "metadata": {
      "needs_background": "light"
     },
     "output_type": "display_data"
    }
   ],
   "source": [
    "nov2020_sales.label.value_counts().plot.bar()\n",
    "plt.title('Label Distribution for November')"
   ]
  },
  {
   "cell_type": "code",
   "execution_count": 28,
   "id": "857c6da2",
   "metadata": {},
   "outputs": [
    {
     "name": "stdout",
     "output_type": "stream",
     "text": [
      "Ratio of labels: \n",
      "0    0.78825\n",
      "1    0.21175\n",
      "Name: label, dtype: float64\n"
     ]
    }
   ],
   "source": [
    "print(f'Ratio of labels: \\n{nov2020_sales.label.value_counts(normalize=True)}')"
   ]
  },
  {
   "cell_type": "code",
   "execution_count": 29,
   "id": "e7fbf78b",
   "metadata": {},
   "outputs": [
    {
     "data": {
      "text/plain": [
       "0    4951\n",
       "1    1330\n",
       "Name: label, dtype: int64"
      ]
     },
     "execution_count": 29,
     "metadata": {},
     "output_type": "execute_result"
    }
   ],
   "source": [
    "nov2020_sales.label.value_counts()"
   ]
  },
  {
   "cell_type": "markdown",
   "id": "a3741f5a",
   "metadata": {},
   "source": [
    "The sales of ~78% of the products did not exceed 1000 for the month of November 2020. This presents an imbalanced classification problem . We will be mindful of the evaluation metric during model building"
   ]
  },
  {
   "cell_type": "code",
   "execution_count": 30,
   "id": "0b97937d",
   "metadata": {},
   "outputs": [
    {
     "data": {
      "text/plain": [
       "datetime.date(2021, 7, 31)"
      ]
     },
     "execution_count": 30,
     "metadata": {},
     "output_type": "execute_result"
    }
   ],
   "source": [
    "df.Date.describe(datetime_is_numeric=True)['max'].date()"
   ]
  },
  {
   "cell_type": "code",
   "execution_count": 31,
   "id": "06500535",
   "metadata": {},
   "outputs": [],
   "source": [
    "#Making labels for the data for each month\n",
    "dec2020_sales = total_monthly_sales(dt.datetime(2020,12,1), dt.datetime(2021,1,1))\n",
    "jan2021_sales = total_monthly_sales(dt.datetime(2021,1,1), dt.datetime(2021,2,1))\n",
    "feb2021_sales = total_monthly_sales(dt.datetime(2021,2,1), dt.datetime(2021,3,1))\n",
    "mar2021_sales = total_monthly_sales(dt.datetime(2021,3,1), dt.datetime(2021,4,1))\n",
    "apr2021_sales = total_monthly_sales(dt.datetime(2021,4,1), dt.datetime(2021,5,1))\n",
    "may2021_sales = total_monthly_sales(dt.datetime(2021,5,1), dt.datetime(2021,6,1))\n",
    "jun2021_sales = total_monthly_sales(dt.datetime(2021,6,1), dt.datetime(2021,7,1))\n",
    "jul2021_sales = total_monthly_sales(dt.datetime(2021,7,1), dt.datetime(2021,8,1))\n"
   ]
  },
  {
   "cell_type": "code",
   "execution_count": 32,
   "id": "5c898a2a",
   "metadata": {},
   "outputs": [],
   "source": [
    "#Create one master dataframe by stacking all the monthly dataframes together\n",
    "data_labels = pd.concat([nov2020_sales, dec2020_sales, jan2021_sales, feb2021_sales, mar2021_sales, apr2021_sales, may2021_sales,\n",
    "                        jun2021_sales, jul2021_sales], axis=0)"
   ]
  },
  {
   "cell_type": "code",
   "execution_count": 33,
   "id": "40ab39ef",
   "metadata": {},
   "outputs": [
    {
     "data": {
      "text/plain": [
       "0    0.840053\n",
       "1    0.159947\n",
       "Name: label, dtype: float64"
      ]
     },
     "execution_count": 33,
     "metadata": {},
     "output_type": "execute_result"
    }
   ],
   "source": [
    "data_labels['label'].value_counts(normalize=True)"
   ]
  },
  {
   "cell_type": "code",
   "execution_count": 34,
   "id": "60e6debe",
   "metadata": {},
   "outputs": [],
   "source": [
    "# Examine Product Sales by month\n",
    "plot_label = data_labels.copy()\n",
    "plot_label['period'] = plot_label['cutoff_time'].dt.to_period('M')"
   ]
  },
  {
   "cell_type": "code",
   "execution_count": 35,
   "id": "30cd34cf",
   "metadata": {},
   "outputs": [
    {
     "data": {
      "text/plain": [
       "<AxesSubplot:xlabel='period', ylabel='total_sale'>"
      ]
     },
     "execution_count": 35,
     "metadata": {},
     "output_type": "execute_result"
    },
    {
     "data": {
      "image/png": "[encoded data removed]",
      "text/plain": [
       "<Figure size 720x360 with 1 Axes>"
      ]
     },
     "metadata": {
      "needs_background": "light"
     },
     "output_type": "display_data"
    }
   ],
   "source": [
    "# plot distribution of sales by month\n",
    "plt.figure(figsize=(10,5))\n",
    "sb.boxplot(x='period', y='total_sale',\n",
    "          data = plot_label[(plot_label['total_sale'] > 0) & (plot_label['total_sale'] < 1000)])"
   ]
  },
  {
   "cell_type": "markdown",
   "id": "57d58910",
   "metadata": {},
   "source": [
    "The median of the distribution for each month closely follows each other. The distribution is stationary over the period"
   ]
  },
  {
   "cell_type": "code",
   "execution_count": 36,
   "id": "1f2721de",
   "metadata": {},
   "outputs": [
    {
     "data": {
      "text/html": [
       "<div>\n",
       "<style scoped>\n",
       "    .dataframe tbody tr th:only-of-type {\n",
       "        vertical-align: middle;\n",
       "    }\n",
       "\n",
       "    .dataframe tbody tr th {\n",
       "        vertical-align: top;\n",
       "    }\n",
       "\n",
       "    .dataframe thead th {\n",
       "        text-align: right;\n",
       "    }\n",
       "</style>\n",
       "<table border=\"1\" class=\"dataframe\">\n",
       "  <thead>\n",
       "    <tr style=\"text-align: right;\">\n",
       "      <th></th>\n",
       "      <th>Product ID</th>\n",
       "      <th>cutoff_time</th>\n",
       "      <th>total_sale</th>\n",
       "      <th>label</th>\n",
       "    </tr>\n",
       "  </thead>\n",
       "  <tbody>\n",
       "    <tr>\n",
       "      <th>1</th>\n",
       "      <td>O40SR</td>\n",
       "      <td>2020-11-01</td>\n",
       "      <td>4899.0</td>\n",
       "      <td>1</td>\n",
       "    </tr>\n",
       "    <tr>\n",
       "      <th>1</th>\n",
       "      <td>O40SR</td>\n",
       "      <td>2020-12-01</td>\n",
       "      <td>4744.0</td>\n",
       "      <td>1</td>\n",
       "    </tr>\n",
       "    <tr>\n",
       "      <th>1</th>\n",
       "      <td>O40SR</td>\n",
       "      <td>2021-01-01</td>\n",
       "      <td>448.0</td>\n",
       "      <td>0</td>\n",
       "    </tr>\n",
       "    <tr>\n",
       "      <th>1</th>\n",
       "      <td>O40SR</td>\n",
       "      <td>2021-02-01</td>\n",
       "      <td>3023.0</td>\n",
       "      <td>1</td>\n",
       "    </tr>\n",
       "    <tr>\n",
       "      <th>1</th>\n",
       "      <td>O40SR</td>\n",
       "      <td>2021-03-01</td>\n",
       "      <td>2276.0</td>\n",
       "      <td>1</td>\n",
       "    </tr>\n",
       "    <tr>\n",
       "      <th>1</th>\n",
       "      <td>O40SR</td>\n",
       "      <td>2021-04-01</td>\n",
       "      <td>1295.0</td>\n",
       "      <td>1</td>\n",
       "    </tr>\n",
       "    <tr>\n",
       "      <th>1</th>\n",
       "      <td>O40SR</td>\n",
       "      <td>2021-05-01</td>\n",
       "      <td>445.0</td>\n",
       "      <td>0</td>\n",
       "    </tr>\n",
       "    <tr>\n",
       "      <th>1</th>\n",
       "      <td>O40SR</td>\n",
       "      <td>2021-06-01</td>\n",
       "      <td>2744.0</td>\n",
       "      <td>1</td>\n",
       "    </tr>\n",
       "    <tr>\n",
       "      <th>1</th>\n",
       "      <td>O40SR</td>\n",
       "      <td>2021-07-01</td>\n",
       "      <td>500.0</td>\n",
       "      <td>0</td>\n",
       "    </tr>\n",
       "  </tbody>\n",
       "</table>\n",
       "</div>"
      ],
      "text/plain": [
       "  Product ID cutoff_time  total_sale  label\n",
       "1      O40SR  2020-11-01      4899.0      1\n",
       "1      O40SR  2020-12-01      4744.0      1\n",
       "1      O40SR  2021-01-01       448.0      0\n",
       "1      O40SR  2021-02-01      3023.0      1\n",
       "1      O40SR  2021-03-01      2276.0      1\n",
       "1      O40SR  2021-04-01      1295.0      1\n",
       "1      O40SR  2021-05-01       445.0      0\n",
       "1      O40SR  2021-06-01      2744.0      1\n",
       "1      O40SR  2021-07-01       500.0      0"
      ]
     },
     "execution_count": 36,
     "metadata": {},
     "output_type": "execute_result"
    }
   ],
   "source": [
    "# Zoom in on one product\n",
    "data_labels.loc[data_labels['Product ID'] =='O40SR']"
   ]
  },
  {
   "cell_type": "code",
   "execution_count": 37,
   "id": "59088c80",
   "metadata": {},
   "outputs": [
    {
     "data": {
      "image/png": "[encoded data removed]",
      "text/plain": [
       "<Figure size 432x288 with 1 Axes>"
      ]
     },
     "metadata": {
      "needs_background": "light"
     },
     "output_type": "display_data"
    }
   ],
   "source": [
    "#Check monthly purchases for the product O40SR\n",
    "data_labels.loc[data_labels['Product ID'] =='O40SR'].set_index('cutoff_time')['total_sale'].plot()\n",
    "plt.title('Monthly purchased distribution for O40SR');"
   ]
  },
  {
   "cell_type": "code",
   "execution_count": 38,
   "id": "43b5720f",
   "metadata": {},
   "outputs": [
    {
     "data": {
      "image/png": "[encoded data removed]",
      "text/plain": [
       "<Figure size 432x288 with 1 Axes>"
      ]
     },
     "metadata": {
      "needs_background": "light"
     },
     "output_type": "display_data"
    }
   ],
   "source": [
    "data_labels.loc[data_labels['Product ID'] =='1PO0L'].set_index('cutoff_time')['total_sale'].plot()\n",
    "plt.title('Monthly purchased distribution for 1PO0L');"
   ]
  },
  {
   "cell_type": "code",
   "execution_count": 39,
   "id": "141295e1",
   "metadata": {},
   "outputs": [
    {
     "data": {
      "image/png": "[encoded data removed]",
      "text/plain": [
       "<Figure size 432x288 with 1 Axes>"
      ]
     },
     "metadata": {
      "needs_background": "light"
     },
     "output_type": "display_data"
    }
   ],
   "source": [
    "data_labels.loc[data_labels['Product ID'] =='Y03MS'].set_index('cutoff_time')['total_sale'].plot()\n",
    "plt.title('Monthly purchased distribution for Y03MS');"
   ]
  },
  {
   "cell_type": "code",
   "execution_count": 40,
   "id": "32eeee2b",
   "metadata": {},
   "outputs": [
    {
     "data": {
      "image/png": "[encoded data removed]",
      "text/plain": [
       "<Figure size 432x288 with 1 Axes>"
      ]
     },
     "metadata": {
      "needs_background": "light"
     },
     "output_type": "display_data"
    }
   ],
   "source": [
    "data_labels.loc[data_labels['Product ID'] =='ZR20A'].set_index('cutoff_time')['total_sale'].plot()\n",
    "plt.title('Monthly purchased distribution for ZR20A');"
   ]
  },
  {
   "cell_type": "code",
   "execution_count": 41,
   "id": "49c7f65a",
   "metadata": {},
   "outputs": [
    {
     "data": {
      "image/png": "[encoded data removed]",
      "text/plain": [
       "<Figure size 432x288 with 1 Axes>"
      ]
     },
     "metadata": {
      "needs_background": "light"
     },
     "output_type": "display_data"
    }
   ],
   "source": [
    "data_labels.loc[data_labels['Product ID'] =='N0SI1'].set_index('cutoff_time')['total_sale'].plot()\n",
    "plt.title('Monthly purchased distribution for N0SI1');"
   ]
  },
  {
   "cell_type": "code",
   "execution_count": 42,
   "id": "00e128fa",
   "metadata": {},
   "outputs": [
    {
     "data": {
      "image/png": "[encoded data removed]",
      "text/plain": [
       "<Figure size 432x288 with 1 Axes>"
      ]
     },
     "metadata": {
      "needs_background": "light"
     },
     "output_type": "display_data"
    }
   ],
   "source": [
    "data_labels.loc[data_labels['Product ID'] =='AL10C'].set_index('cutoff_time')['total_sale'].plot()\n",
    "plt.title('Monthly purchased distribution for AL10C');"
   ]
  },
  {
   "cell_type": "code",
   "execution_count": 43,
   "id": "c9dfc6f7",
   "metadata": {},
   "outputs": [
    {
     "data": {
      "image/png": "[encoded data removed]",
      "text/plain": [
       "<Figure size 432x288 with 1 Axes>"
      ]
     },
     "metadata": {
      "needs_background": "light"
     },
     "output_type": "display_data"
    }
   ],
   "source": [
    "data_labels.loc[data_labels['Product ID'] =='002R2'].set_index('cutoff_time')['total_sale'].plot()\n",
    "plt.title('Monthly purchased distribution for 002R2');"
   ]
  },
  {
   "cell_type": "markdown",
   "id": "1940183b",
   "metadata": {},
   "source": [
    "# Feature Engineering"
   ]
  },
  {
   "cell_type": "markdown",
   "id": "65d6c158",
   "metadata": {},
   "source": [
    "Create new features"
   ]
  },
  {
   "cell_type": "code",
   "execution_count": 44,
   "id": "b7057041",
   "metadata": {},
   "outputs": [
    {
     "name": "stderr",
     "output_type": "stream",
     "text": [
      "C:\\Users\\mappiagyei\\Anaconda3\\lib\\site-packages\\featuretools\\entityset\\entity.py:462: UserWarning: index sales_index not found in dataframe, creating new integer column\n",
      "  warnings.warn(\"index {} not found in dataframe, creating new \"\n"
     ]
    },
    {
     "data": {
      "text/plain": [
       "Entityset: Sales log\n",
       "  Entities:\n",
       "    sales [Rows: 1039524, Columns: 4]\n",
       "  Relationships:\n",
       "    No relationships"
      ]
     },
     "execution_count": 44,
     "metadata": {},
     "output_type": "execute_result"
    }
   ],
   "source": [
    "es = ft.EntitySet(id='Sales log')\n",
    "\n",
    "es.entity_from_dataframe('sales',\n",
    "                        dataframe=df,\n",
    "                        index='sales_index',\n",
    "                        time_index='Date')"
   ]
  },
  {
   "cell_type": "code",
   "execution_count": 45,
   "id": "80bacc65",
   "metadata": {},
   "outputs": [
    {
     "data": {
      "text/html": [
       "<div>\n",
       "<style scoped>\n",
       "    .dataframe tbody tr th:only-of-type {\n",
       "        vertical-align: middle;\n",
       "    }\n",
       "\n",
       "    .dataframe tbody tr th {\n",
       "        vertical-align: top;\n",
       "    }\n",
       "\n",
       "    .dataframe thead th {\n",
       "        text-align: right;\n",
       "    }\n",
       "</style>\n",
       "<table border=\"1\" class=\"dataframe\">\n",
       "  <thead>\n",
       "    <tr style=\"text-align: right;\">\n",
       "      <th></th>\n",
       "      <th>sales_index</th>\n",
       "      <th>Date</th>\n",
       "      <th>Product ID</th>\n",
       "      <th>Stock Demand</th>\n",
       "    </tr>\n",
       "  </thead>\n",
       "  <tbody>\n",
       "    <tr>\n",
       "      <th>20</th>\n",
       "      <td>20</td>\n",
       "      <td>2020-10-01</td>\n",
       "      <td>235IR</td>\n",
       "      <td>5</td>\n",
       "    </tr>\n",
       "    <tr>\n",
       "      <th>67</th>\n",
       "      <td>67</td>\n",
       "      <td>2020-10-01</td>\n",
       "      <td>B10AR</td>\n",
       "      <td>712</td>\n",
       "    </tr>\n",
       "    <tr>\n",
       "      <th>137</th>\n",
       "      <td>137</td>\n",
       "      <td>2020-10-01</td>\n",
       "      <td>01ACU</td>\n",
       "      <td>30</td>\n",
       "    </tr>\n",
       "    <tr>\n",
       "      <th>152</th>\n",
       "      <td>152</td>\n",
       "      <td>2020-10-01</td>\n",
       "      <td>E0LV2</td>\n",
       "      <td>165</td>\n",
       "    </tr>\n",
       "    <tr>\n",
       "      <th>153</th>\n",
       "      <td>153</td>\n",
       "      <td>2020-10-01</td>\n",
       "      <td>RC0I1</td>\n",
       "      <td>31</td>\n",
       "    </tr>\n",
       "  </tbody>\n",
       "</table>\n",
       "</div>"
      ],
      "text/plain": [
       "     sales_index       Date Product ID  Stock Demand\n",
       "20            20 2020-10-01      235IR             5\n",
       "67            67 2020-10-01      B10AR           712\n",
       "137          137 2020-10-01      01ACU            30\n",
       "152          152 2020-10-01      E0LV2           165\n",
       "153          153 2020-10-01      RC0I1            31"
      ]
     },
     "execution_count": 45,
     "metadata": {},
     "output_type": "execute_result"
    }
   ],
   "source": [
    "es['sales'].df.head()"
   ]
  },
  {
   "cell_type": "code",
   "execution_count": 46,
   "id": "ab93f111",
   "metadata": {},
   "outputs": [
    {
     "data": {
      "text/plain": [
       "Entityset: Sales log\n",
       "  Entities:\n",
       "    sales [Rows: 1039524, Columns: 4]\n",
       "    products [Rows: 7795, Columns: 2]\n",
       "  Relationships:\n",
       "    sales.Product ID -> products.Product ID"
      ]
     },
     "execution_count": 46,
     "metadata": {},
     "output_type": "execute_result"
    }
   ],
   "source": [
    "es.normalize_entity(new_entity_id='products',\n",
    "                   base_entity_id='sales',\n",
    "                   index='Product ID',\n",
    "                   )"
   ]
  },
  {
   "cell_type": "code",
   "execution_count": 47,
   "id": "1a7d9c09",
   "metadata": {},
   "outputs": [
    {
     "data": {
      "text/html": [
       "<div>\n",
       "<style scoped>\n",
       "    .dataframe tbody tr th:only-of-type {\n",
       "        vertical-align: middle;\n",
       "    }\n",
       "\n",
       "    .dataframe tbody tr th {\n",
       "        vertical-align: top;\n",
       "    }\n",
       "\n",
       "    .dataframe thead th {\n",
       "        text-align: right;\n",
       "    }\n",
       "</style>\n",
       "<table border=\"1\" class=\"dataframe\">\n",
       "  <thead>\n",
       "    <tr style=\"text-align: right;\">\n",
       "      <th></th>\n",
       "      <th>Product ID</th>\n",
       "      <th>first_sales_time</th>\n",
       "    </tr>\n",
       "  </thead>\n",
       "  <tbody>\n",
       "    <tr>\n",
       "      <th>235IR</th>\n",
       "      <td>235IR</td>\n",
       "      <td>2020-10-01</td>\n",
       "    </tr>\n",
       "    <tr>\n",
       "      <th>B10AR</th>\n",
       "      <td>B10AR</td>\n",
       "      <td>2020-10-01</td>\n",
       "    </tr>\n",
       "    <tr>\n",
       "      <th>01ACU</th>\n",
       "      <td>01ACU</td>\n",
       "      <td>2020-10-01</td>\n",
       "    </tr>\n",
       "    <tr>\n",
       "      <th>E0LV2</th>\n",
       "      <td>E0LV2</td>\n",
       "      <td>2020-10-01</td>\n",
       "    </tr>\n",
       "    <tr>\n",
       "      <th>RC0I1</th>\n",
       "      <td>RC0I1</td>\n",
       "      <td>2020-10-01</td>\n",
       "    </tr>\n",
       "  </tbody>\n",
       "</table>\n",
       "</div>"
      ],
      "text/plain": [
       "      Product ID first_sales_time\n",
       "235IR      235IR       2020-10-01\n",
       "B10AR      B10AR       2020-10-01\n",
       "01ACU      01ACU       2020-10-01\n",
       "E0LV2      E0LV2       2020-10-01\n",
       "RC0I1      RC0I1       2020-10-01"
      ]
     },
     "execution_count": 47,
     "metadata": {},
     "output_type": "execute_result"
    }
   ],
   "source": [
    "es['products'].df.head()"
   ]
  },
  {
   "cell_type": "markdown",
   "id": "b1a4b13e",
   "metadata": {},
   "source": [
    "# Deep Feature Synthesis"
   ]
  },
  {
   "cell_type": "markdown",
   "id": "4489655f",
   "metadata": {},
   "source": [
    "Use deep feature synthesis to generate new features that will be used in model building"
   ]
  },
  {
   "cell_type": "code",
   "execution_count": 48,
   "id": "9dbaa65a",
   "metadata": {},
   "outputs": [
    {
     "data": {
      "text/html": [
       "<div>\n",
       "<style scoped>\n",
       "    .dataframe tbody tr th:only-of-type {\n",
       "        vertical-align: middle;\n",
       "    }\n",
       "\n",
       "    .dataframe tbody tr th {\n",
       "        vertical-align: top;\n",
       "    }\n",
       "\n",
       "    .dataframe thead th {\n",
       "        text-align: right;\n",
       "    }\n",
       "</style>\n",
       "<table border=\"1\" class=\"dataframe\">\n",
       "  <thead>\n",
       "    <tr style=\"text-align: right;\">\n",
       "      <th></th>\n",
       "      <th>Product ID</th>\n",
       "      <th>cutoff_time</th>\n",
       "      <th>total_sale</th>\n",
       "      <th>label</th>\n",
       "    </tr>\n",
       "  </thead>\n",
       "  <tbody>\n",
       "    <tr>\n",
       "      <th>0</th>\n",
       "      <td>I6DO4</td>\n",
       "      <td>2020-11-01</td>\n",
       "      <td>0.0</td>\n",
       "      <td>0</td>\n",
       "    </tr>\n",
       "    <tr>\n",
       "      <th>1</th>\n",
       "      <td>O40SR</td>\n",
       "      <td>2020-11-01</td>\n",
       "      <td>4899.0</td>\n",
       "      <td>1</td>\n",
       "    </tr>\n",
       "    <tr>\n",
       "      <th>2</th>\n",
       "      <td>Y03MS</td>\n",
       "      <td>2020-11-01</td>\n",
       "      <td>5544.0</td>\n",
       "      <td>1</td>\n",
       "    </tr>\n",
       "    <tr>\n",
       "      <th>3</th>\n",
       "      <td>B0OR2</td>\n",
       "      <td>2020-11-01</td>\n",
       "      <td>3828.0</td>\n",
       "      <td>1</td>\n",
       "    </tr>\n",
       "    <tr>\n",
       "      <th>4</th>\n",
       "      <td>EIM03</td>\n",
       "      <td>2020-11-01</td>\n",
       "      <td>426.0</td>\n",
       "      <td>0</td>\n",
       "    </tr>\n",
       "  </tbody>\n",
       "</table>\n",
       "</div>"
      ],
      "text/plain": [
       "  Product ID cutoff_time  total_sale  label\n",
       "0      I6DO4  2020-11-01         0.0      0\n",
       "1      O40SR  2020-11-01      4899.0      1\n",
       "2      Y03MS  2020-11-01      5544.0      1\n",
       "3      B0OR2  2020-11-01      3828.0      1\n",
       "4      EIM03  2020-11-01       426.0      0"
      ]
     },
     "execution_count": 48,
     "metadata": {},
     "output_type": "execute_result"
    }
   ],
   "source": [
    "data_labels.head()"
   ]
  },
  {
   "cell_type": "code",
   "execution_count": 49,
   "id": "0d800eb6",
   "metadata": {},
   "outputs": [],
   "source": [
    "#rename cutoff_time to time \n",
    "data_labels.rename(columns={'cutoff_time':'time'}, inplace=True)"
   ]
  },
  {
   "cell_type": "code",
   "execution_count": 50,
   "id": "3ff350ec",
   "metadata": {},
   "outputs": [
    {
     "name": "stdout",
     "output_type": "stream",
     "text": [
      "<class 'pandas.core.frame.DataFrame'>\n",
      "Int64Index: 64434 entries, 0 to 7699\n",
      "Data columns (total 4 columns):\n",
      " #   Column      Non-Null Count  Dtype         \n",
      "---  ------      --------------  -----         \n",
      " 0   Product ID  64434 non-null  object        \n",
      " 1   time        64434 non-null  datetime64[ns]\n",
      " 2   total_sale  64434 non-null  float64       \n",
      " 3   label       64434 non-null  int32         \n",
      "dtypes: datetime64[ns](1), float64(1), int32(1), object(1)\n",
      "memory usage: 2.2+ MB\n"
     ]
    }
   ],
   "source": [
    "data_labels.info()"
   ]
  },
  {
   "cell_type": "code",
   "execution_count": 51,
   "id": "50696a3d",
   "metadata": {},
   "outputs": [
    {
     "data": {
      "text/html": [
       "<div>\n",
       "<style scoped>\n",
       "    .dataframe tbody tr th:only-of-type {\n",
       "        vertical-align: middle;\n",
       "    }\n",
       "\n",
       "    .dataframe tbody tr th {\n",
       "        vertical-align: top;\n",
       "    }\n",
       "\n",
       "    .dataframe thead th {\n",
       "        text-align: right;\n",
       "    }\n",
       "</style>\n",
       "<table border=\"1\" class=\"dataframe\">\n",
       "  <thead>\n",
       "    <tr style=\"text-align: right;\">\n",
       "      <th></th>\n",
       "      <th></th>\n",
       "      <th>COUNT(sales)</th>\n",
       "      <th>MAX(sales.Stock Demand)</th>\n",
       "      <th>MEAN(sales.Stock Demand)</th>\n",
       "      <th>MIN(sales.Stock Demand)</th>\n",
       "      <th>SKEW(sales.Stock Demand)</th>\n",
       "      <th>STD(sales.Stock Demand)</th>\n",
       "      <th>SUM(sales.Stock Demand)</th>\n",
       "      <th>DAY(first_sales_time)</th>\n",
       "      <th>MONTH(first_sales_time)</th>\n",
       "      <th>WEEKDAY(first_sales_time)</th>\n",
       "      <th>YEAR(first_sales_time)</th>\n",
       "      <th>total_sale</th>\n",
       "      <th>label</th>\n",
       "    </tr>\n",
       "    <tr>\n",
       "      <th>Product ID</th>\n",
       "      <th>time</th>\n",
       "      <th></th>\n",
       "      <th></th>\n",
       "      <th></th>\n",
       "      <th></th>\n",
       "      <th></th>\n",
       "      <th></th>\n",
       "      <th></th>\n",
       "      <th></th>\n",
       "      <th></th>\n",
       "      <th></th>\n",
       "      <th></th>\n",
       "      <th></th>\n",
       "      <th></th>\n",
       "    </tr>\n",
       "  </thead>\n",
       "  <tbody>\n",
       "    <tr>\n",
       "      <th>I6DO4</th>\n",
       "      <th>2020-11-01</th>\n",
       "      <td>3</td>\n",
       "      <td>1</td>\n",
       "      <td>0.333333</td>\n",
       "      <td>-1</td>\n",
       "      <td>-1.732051</td>\n",
       "      <td>1.154701</td>\n",
       "      <td>1</td>\n",
       "      <td>5</td>\n",
       "      <td>10</td>\n",
       "      <td>0</td>\n",
       "      <td>2020</td>\n",
       "      <td>0.0</td>\n",
       "      <td>0</td>\n",
       "    </tr>\n",
       "    <tr>\n",
       "      <th>O40SR</th>\n",
       "      <th>2020-11-01</th>\n",
       "      <td>65</td>\n",
       "      <td>623</td>\n",
       "      <td>60.800000</td>\n",
       "      <td>-125</td>\n",
       "      <td>2.657129</td>\n",
       "      <td>146.629017</td>\n",
       "      <td>3952</td>\n",
       "      <td>1</td>\n",
       "      <td>10</td>\n",
       "      <td>3</td>\n",
       "      <td>2020</td>\n",
       "      <td>4899.0</td>\n",
       "      <td>1</td>\n",
       "    </tr>\n",
       "    <tr>\n",
       "      <th>Y03MS</th>\n",
       "      <th>2020-11-01</th>\n",
       "      <td>25</td>\n",
       "      <td>1098</td>\n",
       "      <td>177.560000</td>\n",
       "      <td>1</td>\n",
       "      <td>2.652076</td>\n",
       "      <td>238.346750</td>\n",
       "      <td>4439</td>\n",
       "      <td>1</td>\n",
       "      <td>10</td>\n",
       "      <td>3</td>\n",
       "      <td>2020</td>\n",
       "      <td>5544.0</td>\n",
       "      <td>1</td>\n",
       "    </tr>\n",
       "    <tr>\n",
       "      <th>B0OR2</th>\n",
       "      <th>2020-11-01</th>\n",
       "      <td>28</td>\n",
       "      <td>681</td>\n",
       "      <td>143.607143</td>\n",
       "      <td>2</td>\n",
       "      <td>2.070061</td>\n",
       "      <td>155.989871</td>\n",
       "      <td>4021</td>\n",
       "      <td>1</td>\n",
       "      <td>10</td>\n",
       "      <td>3</td>\n",
       "      <td>2020</td>\n",
       "      <td>3828.0</td>\n",
       "      <td>1</td>\n",
       "    </tr>\n",
       "    <tr>\n",
       "      <th>EIM03</th>\n",
       "      <th>2020-11-01</th>\n",
       "      <td>42</td>\n",
       "      <td>55</td>\n",
       "      <td>10.785714</td>\n",
       "      <td>1</td>\n",
       "      <td>2.641657</td>\n",
       "      <td>9.866266</td>\n",
       "      <td>453</td>\n",
       "      <td>1</td>\n",
       "      <td>10</td>\n",
       "      <td>3</td>\n",
       "      <td>2020</td>\n",
       "      <td>426.0</td>\n",
       "      <td>0</td>\n",
       "    </tr>\n",
       "  </tbody>\n",
       "</table>\n",
       "</div>"
      ],
      "text/plain": [
       "                       COUNT(sales)  MAX(sales.Stock Demand)  \\\n",
       "Product ID time                                                \n",
       "I6DO4      2020-11-01             3                        1   \n",
       "O40SR      2020-11-01            65                      623   \n",
       "Y03MS      2020-11-01            25                     1098   \n",
       "B0OR2      2020-11-01            28                      681   \n",
       "EIM03      2020-11-01            42                       55   \n",
       "\n",
       "                       MEAN(sales.Stock Demand)  MIN(sales.Stock Demand)  \\\n",
       "Product ID time                                                            \n",
       "I6DO4      2020-11-01                  0.333333                       -1   \n",
       "O40SR      2020-11-01                 60.800000                     -125   \n",
       "Y03MS      2020-11-01                177.560000                        1   \n",
       "B0OR2      2020-11-01                143.607143                        2   \n",
       "EIM03      2020-11-01                 10.785714                        1   \n",
       "\n",
       "                       SKEW(sales.Stock Demand)  STD(sales.Stock Demand)  \\\n",
       "Product ID time                                                            \n",
       "I6DO4      2020-11-01                 -1.732051                 1.154701   \n",
       "O40SR      2020-11-01                  2.657129               146.629017   \n",
       "Y03MS      2020-11-01                  2.652076               238.346750   \n",
       "B0OR2      2020-11-01                  2.070061               155.989871   \n",
       "EIM03      2020-11-01                  2.641657                 9.866266   \n",
       "\n",
       "                       SUM(sales.Stock Demand)  DAY(first_sales_time)  \\\n",
       "Product ID time                                                         \n",
       "I6DO4      2020-11-01                        1                      5   \n",
       "O40SR      2020-11-01                     3952                      1   \n",
       "Y03MS      2020-11-01                     4439                      1   \n",
       "B0OR2      2020-11-01                     4021                      1   \n",
       "EIM03      2020-11-01                      453                      1   \n",
       "\n",
       "                       MONTH(first_sales_time)  WEEKDAY(first_sales_time)  \\\n",
       "Product ID time                                                             \n",
       "I6DO4      2020-11-01                       10                          0   \n",
       "O40SR      2020-11-01                       10                          3   \n",
       "Y03MS      2020-11-01                       10                          3   \n",
       "B0OR2      2020-11-01                       10                          3   \n",
       "EIM03      2020-11-01                       10                          3   \n",
       "\n",
       "                       YEAR(first_sales_time)  total_sale  label  \n",
       "Product ID time                                                   \n",
       "I6DO4      2020-11-01                    2020         0.0      0  \n",
       "O40SR      2020-11-01                    2020      4899.0      1  \n",
       "Y03MS      2020-11-01                    2020      5544.0      1  \n",
       "B0OR2      2020-11-01                    2020      3828.0      1  \n",
       "EIM03      2020-11-01                    2020       426.0      0  "
      ]
     },
     "execution_count": 51,
     "metadata": {},
     "output_type": "execute_result"
    }
   ],
   "source": [
    "feature_mat, feature_names = ft.dfs(entityset=es, target_entity='products',\n",
    "                                   cutoff_time=data_labels, cutoff_time_in_index= True,\n",
    "                                   chunk_size=len(data_labels), n_jobs=1,\n",
    "                                   max_depth=1)\n",
    "\n",
    "feature_mat.head()"
   ]
  },
  {
   "cell_type": "code",
   "execution_count": 52,
   "id": "920616f1",
   "metadata": {},
   "outputs": [
    {
     "data": {
      "text/html": [
       "<div>\n",
       "<style scoped>\n",
       "    .dataframe tbody tr th:only-of-type {\n",
       "        vertical-align: middle;\n",
       "    }\n",
       "\n",
       "    .dataframe tbody tr th {\n",
       "        vertical-align: top;\n",
       "    }\n",
       "\n",
       "    .dataframe thead th {\n",
       "        text-align: right;\n",
       "    }\n",
       "</style>\n",
       "<table border=\"1\" class=\"dataframe\">\n",
       "  <thead>\n",
       "    <tr style=\"text-align: right;\">\n",
       "      <th></th>\n",
       "      <th>COUNT(sales)</th>\n",
       "      <th>MAX(sales.Stock Demand)</th>\n",
       "      <th>MEAN(sales.Stock Demand)</th>\n",
       "      <th>MIN(sales.Stock Demand)</th>\n",
       "      <th>SKEW(sales.Stock Demand)</th>\n",
       "      <th>STD(sales.Stock Demand)</th>\n",
       "      <th>SUM(sales.Stock Demand)</th>\n",
       "      <th>DAY(first_sales_time)</th>\n",
       "      <th>MONTH(first_sales_time)</th>\n",
       "      <th>WEEKDAY(first_sales_time)</th>\n",
       "      <th>YEAR(first_sales_time)</th>\n",
       "      <th>total_sale</th>\n",
       "      <th>label</th>\n",
       "    </tr>\n",
       "    <tr>\n",
       "      <th>time</th>\n",
       "      <th></th>\n",
       "      <th></th>\n",
       "      <th></th>\n",
       "      <th></th>\n",
       "      <th></th>\n",
       "      <th></th>\n",
       "      <th></th>\n",
       "      <th></th>\n",
       "      <th></th>\n",
       "      <th></th>\n",
       "      <th></th>\n",
       "      <th></th>\n",
       "      <th></th>\n",
       "    </tr>\n",
       "  </thead>\n",
       "  <tbody>\n",
       "    <tr>\n",
       "      <th>2020-11-01</th>\n",
       "      <td>65</td>\n",
       "      <td>623</td>\n",
       "      <td>60.800000</td>\n",
       "      <td>-125</td>\n",
       "      <td>2.657129</td>\n",
       "      <td>146.629017</td>\n",
       "      <td>3952</td>\n",
       "      <td>1</td>\n",
       "      <td>10</td>\n",
       "      <td>3</td>\n",
       "      <td>2020</td>\n",
       "      <td>4899.0</td>\n",
       "      <td>1</td>\n",
       "    </tr>\n",
       "    <tr>\n",
       "      <th>2020-12-01</th>\n",
       "      <td>127</td>\n",
       "      <td>1470</td>\n",
       "      <td>69.716535</td>\n",
       "      <td>-125</td>\n",
       "      <td>4.476025</td>\n",
       "      <td>203.175384</td>\n",
       "      <td>8854</td>\n",
       "      <td>1</td>\n",
       "      <td>10</td>\n",
       "      <td>3</td>\n",
       "      <td>2020</td>\n",
       "      <td>4744.0</td>\n",
       "      <td>1</td>\n",
       "    </tr>\n",
       "    <tr>\n",
       "      <th>2021-01-01</th>\n",
       "      <td>176</td>\n",
       "      <td>1470</td>\n",
       "      <td>77.261364</td>\n",
       "      <td>-125</td>\n",
       "      <td>4.099232</td>\n",
       "      <td>211.652815</td>\n",
       "      <td>13598</td>\n",
       "      <td>1</td>\n",
       "      <td>10</td>\n",
       "      <td>3</td>\n",
       "      <td>2020</td>\n",
       "      <td>448.0</td>\n",
       "      <td>0</td>\n",
       "    </tr>\n",
       "    <tr>\n",
       "      <th>2021-02-01</th>\n",
       "      <td>228</td>\n",
       "      <td>1470</td>\n",
       "      <td>61.732456</td>\n",
       "      <td>-125</td>\n",
       "      <td>4.730702</td>\n",
       "      <td>188.080504</td>\n",
       "      <td>14075</td>\n",
       "      <td>1</td>\n",
       "      <td>10</td>\n",
       "      <td>3</td>\n",
       "      <td>2020</td>\n",
       "      <td>3023.0</td>\n",
       "      <td>1</td>\n",
       "    </tr>\n",
       "    <tr>\n",
       "      <th>2021-03-01</th>\n",
       "      <td>282</td>\n",
       "      <td>1470</td>\n",
       "      <td>60.670213</td>\n",
       "      <td>-125</td>\n",
       "      <td>4.800583</td>\n",
       "      <td>176.033767</td>\n",
       "      <td>17109</td>\n",
       "      <td>1</td>\n",
       "      <td>10</td>\n",
       "      <td>3</td>\n",
       "      <td>2020</td>\n",
       "      <td>2276.0</td>\n",
       "      <td>1</td>\n",
       "    </tr>\n",
       "    <tr>\n",
       "      <th>2021-04-01</th>\n",
       "      <td>343</td>\n",
       "      <td>1470</td>\n",
       "      <td>56.530612</td>\n",
       "      <td>-125</td>\n",
       "      <td>4.997464</td>\n",
       "      <td>164.294927</td>\n",
       "      <td>19390</td>\n",
       "      <td>1</td>\n",
       "      <td>10</td>\n",
       "      <td>3</td>\n",
       "      <td>2020</td>\n",
       "      <td>1295.0</td>\n",
       "      <td>1</td>\n",
       "    </tr>\n",
       "    <tr>\n",
       "      <th>2021-05-01</th>\n",
       "      <td>390</td>\n",
       "      <td>1470</td>\n",
       "      <td>53.038462</td>\n",
       "      <td>-125</td>\n",
       "      <td>5.178990</td>\n",
       "      <td>156.798205</td>\n",
       "      <td>20685</td>\n",
       "      <td>1</td>\n",
       "      <td>10</td>\n",
       "      <td>3</td>\n",
       "      <td>2020</td>\n",
       "      <td>445.0</td>\n",
       "      <td>0</td>\n",
       "    </tr>\n",
       "    <tr>\n",
       "      <th>2021-06-01</th>\n",
       "      <td>430</td>\n",
       "      <td>1470</td>\n",
       "      <td>49.139535</td>\n",
       "      <td>-125</td>\n",
       "      <td>5.440719</td>\n",
       "      <td>149.969287</td>\n",
       "      <td>21130</td>\n",
       "      <td>1</td>\n",
       "      <td>10</td>\n",
       "      <td>3</td>\n",
       "      <td>2020</td>\n",
       "      <td>2744.0</td>\n",
       "      <td>1</td>\n",
       "    </tr>\n",
       "    <tr>\n",
       "      <th>2021-07-01</th>\n",
       "      <td>482</td>\n",
       "      <td>1470</td>\n",
       "      <td>49.541494</td>\n",
       "      <td>-125</td>\n",
       "      <td>5.325326</td>\n",
       "      <td>146.743016</td>\n",
       "      <td>23879</td>\n",
       "      <td>1</td>\n",
       "      <td>10</td>\n",
       "      <td>3</td>\n",
       "      <td>2020</td>\n",
       "      <td>500.0</td>\n",
       "      <td>0</td>\n",
       "    </tr>\n",
       "  </tbody>\n",
       "</table>\n",
       "</div>"
      ],
      "text/plain": [
       "            COUNT(sales)  MAX(sales.Stock Demand)  MEAN(sales.Stock Demand)  \\\n",
       "time                                                                          \n",
       "2020-11-01            65                      623                 60.800000   \n",
       "2020-12-01           127                     1470                 69.716535   \n",
       "2021-01-01           176                     1470                 77.261364   \n",
       "2021-02-01           228                     1470                 61.732456   \n",
       "2021-03-01           282                     1470                 60.670213   \n",
       "2021-04-01           343                     1470                 56.530612   \n",
       "2021-05-01           390                     1470                 53.038462   \n",
       "2021-06-01           430                     1470                 49.139535   \n",
       "2021-07-01           482                     1470                 49.541494   \n",
       "\n",
       "            MIN(sales.Stock Demand)  SKEW(sales.Stock Demand)  \\\n",
       "time                                                            \n",
       "2020-11-01                     -125                  2.657129   \n",
       "2020-12-01                     -125                  4.476025   \n",
       "2021-01-01                     -125                  4.099232   \n",
       "2021-02-01                     -125                  4.730702   \n",
       "2021-03-01                     -125                  4.800583   \n",
       "2021-04-01                     -125                  4.997464   \n",
       "2021-05-01                     -125                  5.178990   \n",
       "2021-06-01                     -125                  5.440719   \n",
       "2021-07-01                     -125                  5.325326   \n",
       "\n",
       "            STD(sales.Stock Demand)  SUM(sales.Stock Demand)  \\\n",
       "time                                                           \n",
       "2020-11-01               146.629017                     3952   \n",
       "2020-12-01               203.175384                     8854   \n",
       "2021-01-01               211.652815                    13598   \n",
       "2021-02-01               188.080504                    14075   \n",
       "2021-03-01               176.033767                    17109   \n",
       "2021-04-01               164.294927                    19390   \n",
       "2021-05-01               156.798205                    20685   \n",
       "2021-06-01               149.969287                    21130   \n",
       "2021-07-01               146.743016                    23879   \n",
       "\n",
       "            DAY(first_sales_time)  MONTH(first_sales_time)  \\\n",
       "time                                                         \n",
       "2020-11-01                      1                       10   \n",
       "2020-12-01                      1                       10   \n",
       "2021-01-01                      1                       10   \n",
       "2021-02-01                      1                       10   \n",
       "2021-03-01                      1                       10   \n",
       "2021-04-01                      1                       10   \n",
       "2021-05-01                      1                       10   \n",
       "2021-06-01                      1                       10   \n",
       "2021-07-01                      1                       10   \n",
       "\n",
       "            WEEKDAY(first_sales_time)  YEAR(first_sales_time)  total_sale  \\\n",
       "time                                                                        \n",
       "2020-11-01                          3                    2020      4899.0   \n",
       "2020-12-01                          3                    2020      4744.0   \n",
       "2021-01-01                          3                    2020       448.0   \n",
       "2021-02-01                          3                    2020      3023.0   \n",
       "2021-03-01                          3                    2020      2276.0   \n",
       "2021-04-01                          3                    2020      1295.0   \n",
       "2021-05-01                          3                    2020       445.0   \n",
       "2021-06-01                          3                    2020      2744.0   \n",
       "2021-07-01                          3                    2020       500.0   \n",
       "\n",
       "            label  \n",
       "time               \n",
       "2020-11-01      1  \n",
       "2020-12-01      1  \n",
       "2021-01-01      0  \n",
       "2021-02-01      1  \n",
       "2021-03-01      1  \n",
       "2021-04-01      1  \n",
       "2021-05-01      0  \n",
       "2021-06-01      1  \n",
       "2021-07-01      0  "
      ]
     },
     "execution_count": 52,
     "metadata": {},
     "output_type": "execute_result"
    }
   ],
   "source": [
    "# Check feature matrix for one product\n",
    "\n",
    "feature_mat.loc['O40SR',:]"
   ]
  },
  {
   "cell_type": "code",
   "execution_count": 53,
   "id": "a90c1633",
   "metadata": {},
   "outputs": [
    {
     "data": {
      "image/png": "[encoded data removed]",
      "text/plain": [
       "<Figure size 432x288 with 1 Axes>"
      ]
     },
     "metadata": {
      "needs_background": "light"
     },
     "output_type": "display_data"
    }
   ],
   "source": [
    "feature_mat.groupby('time')['SUM(sales.Stock Demand)'].mean().plot();\n",
    "plt.title('Average Monthly Sum of Stocks Sold');"
   ]
  },
  {
   "cell_type": "markdown",
   "id": "1cad1d03",
   "metadata": {},
   "source": [
    "We see that the average monthly sum for stocks sold is increasing with time."
   ]
  },
  {
   "cell_type": "code",
   "execution_count": 54,
   "id": "f6002c52",
   "metadata": {},
   "outputs": [
    {
     "data": {
      "image/png": "[encoded data removed]",
      "text/plain": [
       "<Figure size 432x288 with 1 Axes>"
      ]
     },
     "metadata": {
      "needs_background": "light"
     },
     "output_type": "display_data"
    }
   ],
   "source": [
    "feature_mat.groupby('time')['COUNT(sales)'].mean().plot();\n",
    "plt.title('Average Monthly Count of Products Purchased');"
   ]
  },
  {
   "cell_type": "markdown",
   "id": "7bdb3bcd",
   "metadata": {},
   "source": [
    "The total number of products as we progress through time also increases. That means we get more products to use in our model"
   ]
  },
  {
   "cell_type": "code",
   "execution_count": 55,
   "id": "de0fe90d",
   "metadata": {},
   "outputs": [],
   "source": [
    "feature_mat = pd.get_dummies(feature_mat).reset_index()"
   ]
  },
  {
   "cell_type": "code",
   "execution_count": 56,
   "id": "6fd3a8e0",
   "metadata": {},
   "outputs": [
    {
     "name": "stdout",
     "output_type": "stream",
     "text": [
      "<class 'pandas.core.frame.DataFrame'>\n",
      "RangeIndex: 64434 entries, 0 to 64433\n",
      "Data columns (total 15 columns):\n",
      " #   Column                     Non-Null Count  Dtype         \n",
      "---  ------                     --------------  -----         \n",
      " 0   Product ID                 64434 non-null  object        \n",
      " 1   time                       64434 non-null  datetime64[ns]\n",
      " 2   COUNT(sales)               64434 non-null  int64         \n",
      " 3   MAX(sales.Stock Demand)    64434 non-null  int64         \n",
      " 4   MEAN(sales.Stock Demand)   64434 non-null  float64       \n",
      " 5   MIN(sales.Stock Demand)    64434 non-null  int64         \n",
      " 6   SKEW(sales.Stock Demand)   59748 non-null  float64       \n",
      " 7   STD(sales.Stock Demand)    61737 non-null  float64       \n",
      " 8   SUM(sales.Stock Demand)    64434 non-null  int64         \n",
      " 9   DAY(first_sales_time)      64434 non-null  int64         \n",
      " 10  MONTH(first_sales_time)    64434 non-null  int64         \n",
      " 11  WEEKDAY(first_sales_time)  64434 non-null  int64         \n",
      " 12  YEAR(first_sales_time)     64434 non-null  int64         \n",
      " 13  total_sale                 64434 non-null  float64       \n",
      " 14  label                      64434 non-null  int32         \n",
      "dtypes: datetime64[ns](1), float64(4), int32(1), int64(8), object(1)\n",
      "memory usage: 7.1+ MB\n"
     ]
    }
   ],
   "source": [
    "feature_mat.info()"
   ]
  },
  {
   "cell_type": "code",
   "execution_count": 57,
   "id": "ad0490c1",
   "metadata": {},
   "outputs": [
    {
     "data": {
      "text/plain": [
       "MIN(sales.Stock Demand)     -0.226667\n",
       "DAY(first_sales_time)       -0.112127\n",
       "YEAR(first_sales_time)      -0.040875\n",
       "MONTH(first_sales_time)      0.026085\n",
       "WEEKDAY(first_sales_time)    0.065440\n",
       "SKEW(sales.Stock Demand)     0.096222\n",
       "COUNT(sales)                 0.197442\n",
       "label                        0.397808\n",
       "STD(sales.Stock Demand)      0.478129\n",
       "MAX(sales.Stock Demand)      0.492160\n",
       "MEAN(sales.Stock Demand)     0.634295\n",
       "SUM(sales.Stock Demand)      0.649677\n",
       "total_sale                   1.000000\n",
       "Name: total_sale, dtype: float64"
      ]
     },
     "execution_count": 57,
     "metadata": {},
     "output_type": "execute_result"
    }
   ],
   "source": [
    "# Check Correlation between variables\n",
    "ts_corr = feature_mat.corr().sort_values('total_sale')\n",
    "ts_corr['total_sale']"
   ]
  },
  {
   "cell_type": "markdown",
   "id": "30d798eb",
   "metadata": {},
   "source": [
    "- Sum(sales.Stock Demand) has the highest correlation with total sale\n",
    "- MIN(sales.Stock Demand) has the lowest"
   ]
  },
  {
   "cell_type": "code",
   "execution_count": 58,
   "id": "0988be97",
   "metadata": {},
   "outputs": [
    {
     "data": {
      "text/plain": [
       "Product ID                      0\n",
       "time                            0\n",
       "COUNT(sales)                    0\n",
       "MAX(sales.Stock Demand)         0\n",
       "MEAN(sales.Stock Demand)        0\n",
       "MIN(sales.Stock Demand)         0\n",
       "SKEW(sales.Stock Demand)     4686\n",
       "STD(sales.Stock Demand)      2697\n",
       "SUM(sales.Stock Demand)         0\n",
       "DAY(first_sales_time)           0\n",
       "MONTH(first_sales_time)         0\n",
       "WEEKDAY(first_sales_time)       0\n",
       "YEAR(first_sales_time)          0\n",
       "total_sale                      0\n",
       "label                           0\n",
       "dtype: int64"
      ]
     },
     "execution_count": 58,
     "metadata": {},
     "output_type": "execute_result"
    }
   ],
   "source": [
    "feature_mat.isna().sum()"
   ]
  },
  {
   "cell_type": "markdown",
   "id": "7b7ef6f7",
   "metadata": {},
   "source": [
    "There are missing values in some features. We will fill those values with their respective feature median values"
   ]
  },
  {
   "cell_type": "code",
   "execution_count": 59,
   "id": "9152efa1",
   "metadata": {},
   "outputs": [],
   "source": [
    "feature_mat['SKEW(sales.Stock Demand)'] = feature_mat['SKEW(sales.Stock Demand)'].fillna(feature_mat['SKEW(sales.Stock Demand)'].median())\n",
    "feature_mat['STD(sales.Stock Demand)'] = feature_mat['STD(sales.Stock Demand)'].fillna(feature_mat['STD(sales.Stock Demand)'].median())"
   ]
  },
  {
   "cell_type": "code",
   "execution_count": 60,
   "id": "1282e886",
   "metadata": {},
   "outputs": [
    {
     "data": {
      "text/plain": [
       "Product ID                   0\n",
       "time                         0\n",
       "COUNT(sales)                 0\n",
       "MAX(sales.Stock Demand)      0\n",
       "MEAN(sales.Stock Demand)     0\n",
       "MIN(sales.Stock Demand)      0\n",
       "SKEW(sales.Stock Demand)     0\n",
       "STD(sales.Stock Demand)      0\n",
       "SUM(sales.Stock Demand)      0\n",
       "DAY(first_sales_time)        0\n",
       "MONTH(first_sales_time)      0\n",
       "WEEKDAY(first_sales_time)    0\n",
       "YEAR(first_sales_time)       0\n",
       "total_sale                   0\n",
       "label                        0\n",
       "dtype: int64"
      ]
     },
     "execution_count": 60,
     "metadata": {},
     "output_type": "execute_result"
    }
   ],
   "source": [
    "feature_mat.isna().sum()"
   ]
  },
  {
   "cell_type": "markdown",
   "id": "7285fe17",
   "metadata": {},
   "source": [
    "- Now there are no more missing values in the dataset"
   ]
  },
  {
   "cell_type": "markdown",
   "id": "206f8e2b",
   "metadata": {},
   "source": [
    "# Model Building. \n",
    "- We will build and xgboost classifier. \n",
    "- We begin our model building by splitting the data into training and testing data\n",
    "- We will then train the model \n",
    "- And then we check the performance of the model "
   ]
  },
  {
   "cell_type": "code",
   "execution_count": 61,
   "id": "5d0e3ca7",
   "metadata": {},
   "outputs": [],
   "source": [
    "#Split data into Independent (X) and target(y) columns\n",
    "\n",
    "X = feature_mat.drop([\"label\", \"time\",\"total_sale\"], axis=1)\n",
    "y = feature_mat[\"label\"]"
   ]
  },
  {
   "cell_type": "code",
   "execution_count": 62,
   "id": "f5b7cb78",
   "metadata": {},
   "outputs": [],
   "source": [
    "X.set_index('Product ID',inplace=True)"
   ]
  },
  {
   "cell_type": "code",
   "execution_count": 63,
   "id": "405aa34a",
   "metadata": {},
   "outputs": [],
   "source": [
    "for col in X.columns:\n",
    "    X[col] = X[col].astype('float')"
   ]
  },
  {
   "cell_type": "code",
   "execution_count": 64,
   "id": "d491f8b0",
   "metadata": {},
   "outputs": [
    {
     "name": "stdout",
     "output_type": "stream",
     "text": [
      "<class 'pandas.core.frame.DataFrame'>\n",
      "Index: 64434 entries, I6DO4 to 2O0BA\n",
      "Data columns (total 11 columns):\n",
      " #   Column                     Non-Null Count  Dtype  \n",
      "---  ------                     --------------  -----  \n",
      " 0   COUNT(sales)               64434 non-null  float64\n",
      " 1   MAX(sales.Stock Demand)    64434 non-null  float64\n",
      " 2   MEAN(sales.Stock Demand)   64434 non-null  float64\n",
      " 3   MIN(sales.Stock Demand)    64434 non-null  float64\n",
      " 4   SKEW(sales.Stock Demand)   64434 non-null  float64\n",
      " 5   STD(sales.Stock Demand)    64434 non-null  float64\n",
      " 6   SUM(sales.Stock Demand)    64434 non-null  float64\n",
      " 7   DAY(first_sales_time)      64434 non-null  float64\n",
      " 8   MONTH(first_sales_time)    64434 non-null  float64\n",
      " 9   WEEKDAY(first_sales_time)  64434 non-null  float64\n",
      " 10  YEAR(first_sales_time)     64434 non-null  float64\n",
      "dtypes: float64(11)\n",
      "memory usage: 5.9+ MB\n"
     ]
    }
   ],
   "source": [
    "X.info()"
   ]
  },
  {
   "cell_type": "code",
   "execution_count": 65,
   "id": "6f1bf566",
   "metadata": {},
   "outputs": [
    {
     "name": "stdout",
     "output_type": "stream",
     "text": [
      "<class 'pandas.core.series.Series'>\n",
      "RangeIndex: 64434 entries, 0 to 64433\n",
      "Series name: label\n",
      "Non-Null Count  Dtype\n",
      "--------------  -----\n",
      "64434 non-null  int32\n",
      "dtypes: int32(1)\n",
      "memory usage: 251.8 KB\n"
     ]
    }
   ],
   "source": [
    "y.info()"
   ]
  },
  {
   "cell_type": "code",
   "execution_count": 66,
   "id": "7867a18c",
   "metadata": {},
   "outputs": [
    {
     "data": {
      "text/plain": [
       "0    0.840053\n",
       "1    0.159947\n",
       "Name: label, dtype: float64"
      ]
     },
     "execution_count": 66,
     "metadata": {},
     "output_type": "execute_result"
    }
   ],
   "source": [
    "y.value_counts(normalize=True)"
   ]
  },
  {
   "cell_type": "markdown",
   "id": "4fb26707",
   "metadata": {},
   "source": [
    "- About 16% of the data has total sales greater than 1000\n",
    "- This means that majority of the products do not record sales of more than 1000units"
   ]
  },
  {
   "cell_type": "code",
   "execution_count": 67,
   "id": "7f7aa0cd",
   "metadata": {},
   "outputs": [],
   "source": [
    "#Split data\n",
    "X_train, X_test, y_train, y_test = train_test_split(X, y, test_size=0.30, random_state=1, stratify=y)"
   ]
  },
  {
   "cell_type": "markdown",
   "id": "f40152f3",
   "metadata": {},
   "source": [
    "We split our data into training and testing samples. We set stratify to maintain label proportionality in both training and testing data"
   ]
  },
  {
   "cell_type": "code",
   "execution_count": 68,
   "id": "d1080cba",
   "metadata": {},
   "outputs": [
    {
     "data": {
      "text/plain": [
       "COUNT(sales)                 float64\n",
       "MAX(sales.Stock Demand)      float64\n",
       "MEAN(sales.Stock Demand)     float64\n",
       "MIN(sales.Stock Demand)      float64\n",
       "SKEW(sales.Stock Demand)     float64\n",
       "STD(sales.Stock Demand)      float64\n",
       "SUM(sales.Stock Demand)      float64\n",
       "DAY(first_sales_time)        float64\n",
       "MONTH(first_sales_time)      float64\n",
       "WEEKDAY(first_sales_time)    float64\n",
       "YEAR(first_sales_time)       float64\n",
       "dtype: object"
      ]
     },
     "execution_count": 68,
     "metadata": {},
     "output_type": "execute_result"
    }
   ],
   "source": [
    "X_train.dtypes"
   ]
  },
  {
   "cell_type": "markdown",
   "id": "c47ea243",
   "metadata": {},
   "source": [
    "##### Building an xgboost classifier with all seen data"
   ]
  },
  {
   "cell_type": "code",
   "execution_count": 69,
   "id": "be96d32c",
   "metadata": {},
   "outputs": [],
   "source": [
    "model = XGBClassifier(random_state=1, eval_metric='logloss', n_estmator=10,importance_type='gain', reg_alpha = 20)"
   ]
  },
  {
   "cell_type": "code",
   "execution_count": 70,
   "id": "ebe3a6b0",
   "metadata": {},
   "outputs": [
    {
     "data": {
      "text/plain": [
       "XGBClassifier(base_score=None, booster=None, callbacks=None,\n",
       "              colsample_bylevel=None, colsample_bynode=None,\n",
       "              colsample_bytree=None, early_stopping_rounds=None,\n",
       "              enable_categorical=False, eval_metric='logloss', gamma=None,\n",
       "              gpu_id=None, grow_policy=None, importance_type='gain',\n",
       "              interaction_constraints=None, learning_rate=None, max_bin=None,\n",
       "              max_cat_to_onehot=None, max_delta_step=None, max_depth=None,\n",
       "              max_leaves=None, min_child_weight=None, missing=nan,\n",
       "              monotone_constraints=None, n_estimators=100, n_estmator=10,\n",
       "              n_jobs=None, num_parallel_tree=None, predictor=None,\n",
       "              random_state=1, reg_alpha=20, ...)"
      ]
     },
     "execution_count": 70,
     "metadata": {},
     "output_type": "execute_result"
    }
   ],
   "source": [
    "model"
   ]
  },
  {
   "cell_type": "code",
   "execution_count": 71,
   "id": "93ffe24a",
   "metadata": {},
   "outputs": [
    {
     "name": "stdout",
     "output_type": "stream",
     "text": [
      "[22:32:01] WARNING: C:/Users/administrator/workspace/xgboost-win64_release_1.6.0/src/learner.cc:627: \n",
      "Parameters: { \"n_estmator\" } might not be used.\n",
      "\n",
      "  This could be a false alarm, with some parameters getting used by language bindings but\n",
      "  then being mistakenly passed down to XGBoost core, or some parameter actually being used\n",
      "  but getting flagged wrongly here. Please open an issue if you find any such cases.\n",
      "\n",
      "\n"
     ]
    },
    {
     "data": {
      "text/plain": [
       "XGBClassifier(base_score=0.5, booster='gbtree', callbacks=None,\n",
       "              colsample_bylevel=1, colsample_bynode=1, colsample_bytree=1,\n",
       "              early_stopping_rounds=None, enable_categorical=False,\n",
       "              eval_metric='logloss', gamma=0, gpu_id=-1,\n",
       "              grow_policy='depthwise', importance_type='gain',\n",
       "              interaction_constraints='', learning_rate=0.300000012,\n",
       "              max_bin=256, max_cat_to_onehot=4, max_delta_step=0, max_depth=6,\n",
       "              max_leaves=0, min_child_weight=1, missing=nan,\n",
       "              monotone_constraints='()', n_estimators=100, n_estmator=10,\n",
       "              n_jobs=0, num_parallel_tree=1, predictor='auto', random_state=1,\n",
       "              reg_alpha=20, ...)"
      ]
     },
     "execution_count": 71,
     "metadata": {},
     "output_type": "execute_result"
    }
   ],
   "source": [
    "# Fitting the training data to our model\n",
    "model.fit(X_train, y_train)"
   ]
  },
  {
   "cell_type": "markdown",
   "id": "3cdfde7e",
   "metadata": {},
   "source": [
    "##### Evaluating the performance of our model"
   ]
  },
  {
   "cell_type": "code",
   "execution_count": 72,
   "id": "5cdc073c",
   "metadata": {},
   "outputs": [],
   "source": [
    "def model_metrics(model, predictors, target):\n",
    "    \n",
    "    pred = model.predict(predictors)\n",
    "    \n",
    "    model_accuracy = accuracy_score(target, pred)\n",
    "    model_recall = recall_score(target, pred)\n",
    "    model_precision = precision_score(target, pred)\n",
    "    model_f1 = f1_score(target, pred)\n",
    "    \n",
    "    df_performance = pd.DataFrame(\n",
    "    {\n",
    "        \"Accuracy\": model_accuracy,\n",
    "        \"Recall\": model_recall,\n",
    "        \"Precision\" : model_precision,\n",
    "        \"F1 Score\": model_f1\n",
    "    },\n",
    "        index=[0]\n",
    "    )\n",
    "    \n",
    "    return df_performance"
   ]
  },
  {
   "cell_type": "markdown",
   "id": "7cff67b4",
   "metadata": {},
   "source": [
    "- This function takes in the model, the predictor and the target and output the model performance in a dataframe"
   ]
  },
  {
   "cell_type": "code",
   "execution_count": 73,
   "id": "d4416b46",
   "metadata": {},
   "outputs": [
    {
     "data": {
      "text/html": [
       "<div>\n",
       "<style scoped>\n",
       "    .dataframe tbody tr th:only-of-type {\n",
       "        vertical-align: middle;\n",
       "    }\n",
       "\n",
       "    .dataframe tbody tr th {\n",
       "        vertical-align: top;\n",
       "    }\n",
       "\n",
       "    .dataframe thead th {\n",
       "        text-align: right;\n",
       "    }\n",
       "</style>\n",
       "<table border=\"1\" class=\"dataframe\">\n",
       "  <thead>\n",
       "    <tr style=\"text-align: right;\">\n",
       "      <th></th>\n",
       "      <th>Accuracy</th>\n",
       "      <th>Recall</th>\n",
       "      <th>Precision</th>\n",
       "      <th>F1 Score</th>\n",
       "    </tr>\n",
       "  </thead>\n",
       "  <tbody>\n",
       "    <tr>\n",
       "      <th>0</th>\n",
       "      <td>0.942798</td>\n",
       "      <td>0.802883</td>\n",
       "      <td>0.833381</td>\n",
       "      <td>0.817848</td>\n",
       "    </tr>\n",
       "  </tbody>\n",
       "</table>\n",
       "</div>"
      ],
      "text/plain": [
       "   Accuracy    Recall  Precision  F1 Score\n",
       "0  0.942798  0.802883   0.833381  0.817848"
      ]
     },
     "execution_count": 73,
     "metadata": {},
     "output_type": "execute_result"
    }
   ],
   "source": [
    "xgb1_train = model_metrics(model, X_train, y_train)\n",
    "xgb1_train"
   ]
  },
  {
   "cell_type": "code",
   "execution_count": 74,
   "id": "f2e0211f",
   "metadata": {},
   "outputs": [
    {
     "data": {
      "text/html": [
       "<div>\n",
       "<style scoped>\n",
       "    .dataframe tbody tr th:only-of-type {\n",
       "        vertical-align: middle;\n",
       "    }\n",
       "\n",
       "    .dataframe tbody tr th {\n",
       "        vertical-align: top;\n",
       "    }\n",
       "\n",
       "    .dataframe thead th {\n",
       "        text-align: right;\n",
       "    }\n",
       "</style>\n",
       "<table border=\"1\" class=\"dataframe\">\n",
       "  <thead>\n",
       "    <tr style=\"text-align: right;\">\n",
       "      <th></th>\n",
       "      <th>Accuracy</th>\n",
       "      <th>Recall</th>\n",
       "      <th>Precision</th>\n",
       "      <th>F1 Score</th>\n",
       "    </tr>\n",
       "  </thead>\n",
       "  <tbody>\n",
       "    <tr>\n",
       "      <th>0</th>\n",
       "      <td>0.939734</td>\n",
       "      <td>0.813066</td>\n",
       "      <td>0.810706</td>\n",
       "      <td>0.811884</td>\n",
       "    </tr>\n",
       "  </tbody>\n",
       "</table>\n",
       "</div>"
      ],
      "text/plain": [
       "   Accuracy    Recall  Precision  F1 Score\n",
       "0  0.939734  0.813066   0.810706  0.811884"
      ]
     },
     "execution_count": 74,
     "metadata": {},
     "output_type": "execute_result"
    }
   ],
   "source": [
    "xgb1_test = model_metrics(model, X_test, y_test)\n",
    "xgb1_test"
   ]
  },
  {
   "cell_type": "markdown",
   "id": "ef3fce97",
   "metadata": {},
   "source": [
    "- Although the accuracy is high, we cannot rely on it because of the imbalance in the classifications. We will use precision as our evaluating metric. The precision on train and test data are ~0.83 and ~0.81 respectively. The model does a good job at predicting the labels. We are not only mindful of predicting items that needs to be restocked, we also want to be accurate at predicting those we need not restock. That is why we choose precision as our evaluating metric."
   ]
  },
  {
   "cell_type": "markdown",
   "id": "672d1110",
   "metadata": {},
   "source": [
    "Building a machine learning pipeline for the model:\n",
    "\n",
    "_Data Gathering_\n",
    " - The monthly sales data needs to be imported into the model. I will create a database to store the sales information on each product for a given month\n",
    " \n",
    "_Data Preprocessing_\n",
    " - At this stage, I will perform some transformations on the data and use feature engineering and deep feature synthesis to generate new features for the data\n",
    " \n",
    "_Data Splitting_\n",
    " - This is where I split the data into train and testing to be used in for training the machine learning model.\n",
    " \n",
    "_Model Training evaluating and deployment_\n"
   ]
  },
  {
   "cell_type": "markdown",
   "id": "1d33c200",
   "metadata": {},
   "source": [
    "Measure the performance of your model:\n",
    "- The performance of the model on the operations will be measured on how well the model is good at predicting items that needs to be restocked and those that do not need to be. If the company is reducing both overstocking and understocking, the model will be doing a good job"
   ]
  },
  {
   "cell_type": "markdown",
   "id": "87387b41",
   "metadata": {},
   "source": []
  }
 ],
 "metadata": {
  "kernelspec": {
   "display_name": "Python 3 (ipykernel)",
   "language": "python",
   "name": "python3"
  },
  "language_info": {
   "codemirror_mode": {
    "name": "ipython",
    "version": 3
   },
   "file_extension": ".py",
   "mimetype": "text/x-python",
   "name": "python",
   "nbconvert_exporter": "python",
   "pygments_lexer": "ipython3",
   "version": "3.9.12"
  }
 },
 "nbformat": 4,
 "nbformat_minor": 5
}
